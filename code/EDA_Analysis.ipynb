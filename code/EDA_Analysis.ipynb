{
 "cells": [
  {
   "cell_type": "markdown",
   "id": "c5700dfa-e2f2-4d81-a9c7-572392988045",
   "metadata": {},
   "source": [
    "<font size=\"6\"><strong><center>Datathon FY'25<center></strong></font>"
   ]
  },
  {
   "cell_type": "code",
   "execution_count": null,
   "id": "3cedeae1-27de-46fa-b9c4-0309fb293f92",
   "metadata": {},
   "outputs": [],
   "source": [
    "<font size=\"5\"><font color = \"red\"><strong><center><i>Team 3 - Accenture Super Kings</i><center></strong></font>"
   ]
  },
  {
   "cell_type": "code",
   "execution_count": null,
   "id": "0a46c296-3b6c-479c-a754-418d2f2f1758",
   "metadata": {},
   "outputs": [],
   "source": [
    "<font size=\"4\"><font color = \"red\"><strong><center>IMPACT ANALYSIS OF DIABETES ON HUMANS<center></strong></font>"
   ]
  },
  {
   "cell_type": "code",
   "execution_count": null,
   "id": "a10a4169-f91c-4455-b9fb-71eb0c26b4f0",
   "metadata": {},
   "outputs": [],
   "source": []
  }
 ],
 "metadata": {
  "kernelspec": {
   "display_name": "Python 3 (ipykernel)",
   "language": "python",
   "name": "python3"
  },
  "language_info": {
   "codemirror_mode": {
    "name": "ipython",
    "version": 3
   },
   "file_extension": ".py",
   "mimetype": "text/x-python",
   "name": "python",
   "nbconvert_exporter": "python",
   "pygments_lexer": "ipython3",
   "version": "3.13.0"
  }
 },
 "nbformat": 4,
 "nbformat_minor": 5
}
